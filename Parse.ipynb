{
 "cells": [
  {
   "cell_type": "markdown",
   "id": "5189724c-f31c-423e-be21-90e4bc30e4a6",
   "metadata": {},
   "source": [
    "Let's first create two text files that have the coordinates of two molecules ($H_20$ and $CH_4$) separately. "
   ]
  },
  {
   "cell_type": "code",
   "execution_count": 1,
   "id": "1345eb46-c369-49ae-8a79-eedb626ccf6c",
   "metadata": {},
   "outputs": [],
   "source": [
    "file1 = open(\"H20.txt\",\"w\")\n",
    "file1.write(\"Atom   x   y   z \\n\")\n",
    "file1.write(\"H      1   1   0 \\n\")\n",
    "file1.write(\"O      0   0   0 \\n\")\n",
    "file1.write(\"H     -1   1   0 \\n\")\n",
    "file1.write(\"END \\n\")\n",
    "file1.close()\n",
    "\n",
    "\n",
    "file2 = open(\"CH4.txt\",\"w\")\n",
    "file2.write(\"Atom   x   y   z \\n\")\n",
    "file2.write(\"C      0   0   0 \\n\")\n",
    "file2.write(\"H      1   0   0 \\n\")\n",
    "file2.write(\"H     -1   0   0 \\n\")\n",
    "file2.write(\"H      0   1   0 \\n\")\n",
    "file2.write(\"H      0  -1   0 \\n\")\n",
    "file2.write(\"END \\n\")\n",
    "file2.close()"
   ]
  },
  {
   "cell_type": "markdown",
   "id": "384b9ee1-54bd-4522-a6b9-b6d185f01084",
   "metadata": {},
   "source": [
    "Now we want to combine these two files. Note that we don't want to write the first and the last lines twice since they are header and footer."
   ]
  },
  {
   "cell_type": "code",
   "execution_count": 2,
   "id": "aa4b1432-e966-4c57-9bf2-b608d158f32a",
   "metadata": {},
   "outputs": [
    {
     "name": "stdout",
     "output_type": "stream",
     "text": [
      "Atom   x   y   z \n",
      "\n",
      "H      1   1   0 \n",
      "\n",
      "O      0   0   0 \n",
      "\n",
      "H     -1   1   0 \n",
      "\n",
      "C      0   0   0 \n",
      "\n",
      "H      1   0   0 \n",
      "\n",
      "H     -1   0   0 \n",
      "\n",
      "H      0   1   0 \n",
      "\n",
      "H      0  -1   0 \n",
      "\n",
      "END \n",
      "\n"
     ]
    }
   ],
   "source": [
    "file1 = open(\"H20.txt\",\"r\")\n",
    "file2 = open(\"CH4.txt\",\"r\")\n",
    "file3 = open(\"H20_CH4.txt\",\"w\")\n",
    "for line in file1.readlines():\n",
    "    if line.split()[0] != \"END\":\n",
    "        file3.write(line)\n",
    "        print(line)\n",
    "    #Done copying the first file except for the last line\n",
    "\n",
    "for line in file2.readlines():\n",
    "    if line.split()[0] !=\"Atom\":\n",
    "        print(line)\n",
    "        file3.write(line)\n",
    "\n",
    "file1.close()\n",
    "file2.close()\n",
    "file3.close()"
   ]
  },
  {
   "cell_type": "markdown",
   "id": "8de9b61d-dca8-45c5-a27a-a4187bde2990",
   "metadata": {},
   "source": [
    "Looks good! (this is what SWR would say to this code.)"
   ]
  },
  {
   "cell_type": "code",
   "execution_count": null,
   "id": "364ca4c9-6ff1-4cd2-a674-6932c4d48229",
   "metadata": {},
   "outputs": [],
   "source": []
  }
 ],
 "metadata": {
  "kernelspec": {
   "display_name": "Python 3 (ipykernel)",
   "language": "python",
   "name": "python3"
  },
  "language_info": {
   "codemirror_mode": {
    "name": "ipython",
    "version": 3
   },
   "file_extension": ".py",
   "mimetype": "text/x-python",
   "name": "python",
   "nbconvert_exporter": "python",
   "pygments_lexer": "ipython3",
   "version": "3.7.10"
  }
 },
 "nbformat": 4,
 "nbformat_minor": 5
}
